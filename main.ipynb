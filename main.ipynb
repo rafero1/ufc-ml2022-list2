{
 "cells": [
  {
   "cell_type": "code",
   "execution_count": 105,
   "metadata": {},
   "outputs": [],
   "source": [
    "import numpy as np\n",
    "import numpy.typing as npt\n",
    "import matplotlib.pyplot as plt  # Biblioteca para gerar gráficos\n",
    "import pandas as pd\n",
    "from sklearn import metrics, model_selection\n",
    "from scipy import stats\n",
    "import math\n"
   ]
  },
  {
   "cell_type": "code",
   "execution_count": 106,
   "metadata": {},
   "outputs": [],
   "source": [
    "data = np.genfromtxt('breastcancer.csv', delimiter=',')"
   ]
  },
  {
   "cell_type": "markdown",
   "metadata": {},
   "source": [
    "## Questão 1"
   ]
  },
  {
   "cell_type": "markdown",
   "metadata": {},
   "source": [
    "Considere o conjunto de dados disponível em `breastcancer.csv`, organizado\n",
    "em 31 colunas, sendo as 30 primeiras colunas os atributos e a última coluna a\n",
    "saída. Os 30 atributos coletados de exames médicos são usados no diagnóstico\n",
    "do câncer de mama, sendo 1 a classe positiva e 0 a classe negativa. Maiores \n",
    "detalhes sobre os dados podem ser conferidos em \n",
    "https://scikit-learn.org/stable/datasets/toy_dataset.html#breast-cancer-dataset."
   ]
  },
  {
   "cell_type": "markdown",
   "metadata": {},
   "source": [
    "a) Considerando uma validação cruzada em 10 folds, avalie modelos de classicação binária nos dados em questão. Para tanto, use as abordagens abaixo:\n",
    "- Regressão logística (treinado com GD ou SGD);\n",
    "- Análise do discriminante Gaussiano;\n",
    "- Naive Bayes Gaussiano;"
   ]
  },
  {
   "cell_type": "code",
   "execution_count": 107,
   "metadata": {},
   "outputs": [],
   "source": [
    "\n",
    "class Set:\n",
    "    def __init__(self, dataset, features, output):\n",
    "        self.dataset = dataset\n",
    "        self.features = features\n",
    "        self.output = output\n",
    "\n",
    "    def get_n(self):\n",
    "        return self.dataset.shape[0]\n",
    "\n",
    "    def get_x(self):\n",
    "        return self.dataset[:, self.features]\n",
    "\n",
    "    def set_x(self, new_x):\n",
    "        self.x = new_x\n",
    "\n",
    "    def get_y(self):\n",
    "        return self.dataset[:, self.output]\n",
    "\n",
    "    def get_X(self, normal_fun=None):\n",
    "        if (normal_fun):\n",
    "            return np.c_[np.ones(self.get_n()), normal_fun(self.get_x())]\n",
    "        else:\n",
    "            return np.c_[np.ones(self.get_n()), self.get_x()]\n"
   ]
  },
  {
   "cell_type": "code",
   "execution_count": 108,
   "metadata": {},
   "outputs": [],
   "source": [
    "def k_fold_split(array, k = int):\n",
    "    shuffled_data = np.random.permutation(array)\n",
    "    folds = np.array_split(shuffled_data, k)\n",
    "    return folds\n",
    "\n",
    "folds = k_fold_split(data, 10)"
   ]
  },
  {
   "cell_type": "code",
   "execution_count": 109,
   "metadata": {},
   "outputs": [],
   "source": [
    "def sigmoid(z):\n",
    "    return 1/(1 + np.exp(-z))\n",
    "\n",
    "def GD(X, y, learning_rate, epochs):\n",
    "    n = y.shape[0]\n",
    "    # w = np.random.randn(X.shape[1])\n",
    "    w = np.zeros(X.shape[1])\n",
    "\n",
    "    for t in range(epochs):\n",
    "        ei_sum = np.zeros(X.shape[1])\n",
    "        for i in range(n):\n",
    "            ei = y[i] - sigmoid(np.dot(w.T, X[i]))\n",
    "            ei_sum += np.dot(ei, X[i])\n",
    "        w = w + learning_rate * (ei_sum/n)\n",
    "        # w = w + learning_rate * np.mean(np.dot(e, X))\n",
    "    return w\n",
    "\n",
    "def log_reg_GD(train_set, test_set, learning_rate, epochs):\n",
    "    features = np.arange(30)\n",
    "    output = 30\n",
    "\n",
    "    train_set = Set(train_set, features, output)\n",
    "    X_train = train_set.get_X(normal_fun=stats.zscore)\n",
    "    y_train = train_set.get_y()\n",
    "\n",
    "    w_train = GD(X_train, y_train, learning_rate, epochs)\n",
    "\n",
    "    test_set = Set(test_set, features, output)\n",
    "    X_test = test_set.get_X(normal_fun=stats.zscore)\n",
    "    y_test = test_set.get_y()\n",
    "\n",
    "    y_pred = sigmoid(np.dot(w_train, X_test.T))\n",
    "    y_pred = np.around(y_pred)\n",
    "\n",
    "    return (y_test, y_pred)\n"
   ]
  },
  {
   "cell_type": "code",
   "execution_count": 110,
   "metadata": {},
   "outputs": [],
   "source": [
    "# todo analise de discriminante gaussiano\n",
    "def GDA():\n",
    "    pass"
   ]
  },
  {
   "cell_type": "code",
   "execution_count": 111,
   "metadata": {},
   "outputs": [],
   "source": [
    "# todo naive bayes\n",
    "def naibe_bayes():\n",
    "    pass"
   ]
  },
  {
   "cell_type": "markdown",
   "metadata": {},
   "source": [
    "b) Para cada modelo criado, reporte valor médio e desvio padrão das métricas de **acurácia**, **revocação**, **precisão** e **F1-score**"
   ]
  },
  {
   "cell_type": "code",
   "execution_count": 112,
   "metadata": {},
   "outputs": [],
   "source": [
    "def is_true_positive(y, y_pred):\n",
    "    return y_pred >= 1 and y >= 1\n",
    "\n",
    "def is_false_positive(y, y_pred):\n",
    "    return y_pred >= 1 and y <= 0\n",
    "\n",
    "def is_true_negative(y, y_pred):\n",
    "    return y_pred <= 0 and y <= 0\n",
    "\n",
    "def is_false_negative(y, y_pred):\n",
    "    return y_pred <= 0 and y >= 1\n",
    "\n",
    "def verify_predictions(y, y_pred):\n",
    "    \"\"\" returns (tp, fp, tn, fn) \"\"\"\n",
    "\n",
    "    tp, fp, tn, fn = 0, 0, 0, 0\n",
    "    for i, pred in enumerate(y_pred):\n",
    "        tp += 1 if is_true_positive(y[i], pred) else 0\n",
    "        fp += 1 if is_false_positive(y[i], pred) else 0\n",
    "        tn += 1 if is_true_negative(y[i], pred) else 0\n",
    "        fn += 1 if is_false_negative(y[i], pred) else 0\n",
    "    return (tp, fp, tn, fn)\n",
    "\n",
    "def accuracy(y, y_pred):\n",
    "    tp, fp, tn, fn = verify_predictions(y, y_pred)\n",
    "    return (tp + tn) / (tp + fp + tn + fn)\n",
    "\n",
    "def precision(y, y_pred):\n",
    "    tp, fp, tn, fn = verify_predictions(y, y_pred)\n",
    "    return tp / (tp + fp)\n",
    "\n",
    "def recall(y, y_pred):\n",
    "    tp, fp, tn, fn = verify_predictions(y, y_pred)\n",
    "    return tp / (tp + fn)\n",
    "\n",
    "def f1_score(y, y_pred):\n",
    "    precision_ = precision(y, y_pred)\n",
    "    recall_ = recall(y, y_pred)\n",
    "    return 2 * (precision_ * recall_) / (precision_ + recall_)\n"
   ]
  },
  {
   "cell_type": "code",
   "execution_count": 113,
   "metadata": {},
   "outputs": [
    {
     "name": "stdout",
     "output_type": "stream",
     "text": [
      "10-fold cross validation com regressão logistica (GD)\n",
      "acurácia: 0.94013158 +/- 0.04685034\n",
      "revocação: 0.95833098 +/- 0.04538283\n",
      "precisão: 0.95075310 +/- 0.04489893\n",
      "f1-score: 0.95356293 +/- 0.03454181\n"
     ]
    }
   ],
   "source": [
    "accuracy_arr, precision_arr, recall_arr, f1_score_arr = [], [], [], []\n",
    "\n",
    "for i, fold in enumerate(folds):\n",
    "    test_set = fold\n",
    "    train_sets = [x for j, x in enumerate(folds) if j != i]\n",
    "    train_sets = np.vstack(train_sets)\n",
    "\n",
    "    y_test, y_pred = log_reg_GD(train_sets, test_set, 0.01, 100)\n",
    "\n",
    "    accuracy_arr.append(accuracy(y_test, y_pred))\n",
    "    # accuracy_arr.append(metrics.accuracy_score(y_test, y_pred))\n",
    "    precision_arr.append(precision(y_test, y_pred))\n",
    "    recall_arr.append(recall(y_test, y_pred))\n",
    "    f1_score_arr.append(f1_score(y_test, y_pred))\n",
    "\n",
    "print(\"10-fold cross validation com regressão logistica (GD)\")\n",
    "print(\"acurácia: %.8f +/- %.8f\" %\n",
    "      (np.mean(accuracy_arr), np.std(accuracy_arr)))\n",
    "print(\"revocação: %.8f +/- %.8f\" %\n",
    "      (np.mean(precision_arr), np.std(precision_arr)))\n",
    "print(\"precisão: %.8f +/- %.8f\" % (np.mean(recall_arr), np.std(recall_arr)))\n",
    "print(\"f1-score: %.8f +/- %.8f\" %\n",
    "      (np.mean(f1_score_arr), np.std(f1_score_arr)))\n"
   ]
  }
 ],
 "metadata": {
  "interpreter": {
   "hash": "77ab0bf75426114283fafc7207ca0245f7de4738c2866fb9aad708a7843cc047"
  },
  "kernelspec": {
   "display_name": "Python 3.9.7 ('base')",
   "language": "python",
   "name": "python3"
  },
  "language_info": {
   "codemirror_mode": {
    "name": "ipython",
    "version": 3
   },
   "file_extension": ".py",
   "mimetype": "text/x-python",
   "name": "python",
   "nbconvert_exporter": "python",
   "pygments_lexer": "ipython3",
   "version": "3.9.7"
  },
  "orig_nbformat": 4
 },
 "nbformat": 4,
 "nbformat_minor": 2
}
