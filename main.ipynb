{
 "cells": [
  {
   "cell_type": "code",
   "execution_count": 121,
   "metadata": {},
   "outputs": [],
   "source": [
    "import numpy as np\n",
    "import numpy.typing as npt\n",
    "import matplotlib.pyplot as plt  # Biblioteca para gerar gráficos\n",
    "import pandas as pd\n",
    "from sklearn import metrics, model_selection\n",
    "from scipy import stats\n",
    "import math\n"
   ]
  },
  {
   "cell_type": "code",
   "execution_count": 122,
   "metadata": {},
   "outputs": [],
   "source": [
    "data = np.genfromtxt('breastcancer.csv', delimiter=',')"
   ]
  },
  {
   "cell_type": "markdown",
   "metadata": {},
   "source": [
    "## Questão 1"
   ]
  },
  {
   "cell_type": "markdown",
   "metadata": {},
   "source": [
    "Considere o conjunto de dados disponível em `breastcancer.csv`, organizado\n",
    "em 31 colunas, sendo as 30 primeiras colunas os atributos e a última coluna a\n",
    "saída. Os 30 atributos coletados de exames médicos são usados no diagnóstico\n",
    "do câncer de mama, sendo 1 a classe positiva e 0 a classe negativa. Maiores \n",
    "detalhes sobre os dados podem ser conferidos em \n",
    "https://scikit-learn.org/stable/datasets/toy_dataset.html#breast-cancer-dataset."
   ]
  },
  {
   "cell_type": "markdown",
   "metadata": {},
   "source": [
    "a) Considerando uma validação cruzada em 10 folds, avalie modelos de classicação binária nos dados em questão. Para tanto, use as abordagens abaixo:\n",
    "- Regressão logística (treinado com GD ou SGD);\n",
    "- Análise do discriminante Gaussiano;\n",
    "- Naive Bayes Gaussiano;"
   ]
  },
  {
   "cell_type": "code",
   "execution_count": 123,
   "metadata": {},
   "outputs": [
    {
     "name": "stdout",
     "output_type": "stream",
     "text": [
      "(57, 31)\n",
      "(57, 31)\n",
      "(57, 31)\n",
      "(57, 31)\n",
      "(57, 31)\n",
      "(57, 31)\n",
      "(57, 31)\n",
      "(57, 31)\n",
      "(57, 31)\n",
      "(56, 31)\n"
     ]
    },
    {
     "data": {
      "text/plain": [
       "array([[-0.74458217, -0.09132673,  2.25101544, ...,  0.08104925,\n",
       "         0.07171938,  1.39533229],\n",
       "       [-0.34462244, -0.01937404, -0.24416276, ...,  0.59332085,\n",
       "        -1.42602475,  0.37755812],\n",
       "       [ 0.69272854, -0.92808355,  1.18063807, ...,  0.70526621,\n",
       "         1.8333182 ,  0.89817611],\n",
       "       ...,\n",
       "       [ 0.67924119, -0.56154484,  1.58515104, ...,  0.52747405,\n",
       "        -0.52826934,  0.88669343],\n",
       "       [-1.09137077, -0.8241455 ,  1.61572572, ...,  2.08138303,\n",
       "         0.43165925,  0.77440936],\n",
       "       [ 0.72408626, -1.53250523, -1.46433486, ...,  0.02637207,\n",
       "         1.20256179, -0.28389268]])"
      ]
     },
     "execution_count": 123,
     "metadata": {},
     "output_type": "execute_result"
    }
   ],
   "source": [
    "def k_fold_split(array, k = int):\n",
    "    shuffled_data = np.random.permutation(array)\n",
    "    folds = np.array_split(shuffled_data, k)\n",
    "    return folds\n",
    "\n",
    "folds = k_fold_split(data, 10)\n",
    "\n",
    "for fold in folds:\n",
    "    print(fold.shape)\n",
    "\n",
    "def sigmoid(z):\n",
    "    return 1/(1 + np.exp(-z))\n",
    "\n",
    "test_data = folds[0]\n",
    "n = test_data.shape[0]\n",
    "epochs = 100\n",
    "x = test_data[:, np.arange(28)]\n",
    "x = stats.zscore(x)\n",
    "X = np.c_[np.ones(n), x]\n",
    "y = test_data[:, 29]\n",
    "learning_rate = 0.01\n",
    "e = np.zeros(n)\n",
    "w = np.array([np.random.randn(col.shape[0]) for col in X])\n",
    "\n",
    "for t in range(epochs):\n",
    "\n",
    "    for i in w:\n",
    "        w[i] += learning_rate * np.mean(np.dot(e, X))\n",
    "        e[i] = y - sigmoid(np.dot(X, w.T))\n",
    "w"
   ]
  },
  {
   "cell_type": "markdown",
   "metadata": {},
   "source": [
    "b) Para cada modelo criado, reporte valor médio e desvio padrão das métricas de **acurácia**, **revocação**, **precisão** e **F1-score**"
   ]
  },
  {
   "cell_type": "code",
   "execution_count": null,
   "metadata": {},
   "outputs": [],
   "source": []
  }
 ],
 "metadata": {
  "interpreter": {
   "hash": "05cedc3a0c31e1e7fb3df5e4319ca5c7e51320cc5669d74c0056de25bf415e10"
  },
  "kernelspec": {
   "display_name": "Python 3.9.7 ('base')",
   "language": "python",
   "name": "python3"
  },
  "language_info": {
   "codemirror_mode": {
    "name": "ipython",
    "version": 3
   },
   "file_extension": ".py",
   "mimetype": "text/x-python",
   "name": "python",
   "nbconvert_exporter": "python",
   "pygments_lexer": "ipython3",
   "version": "3.9.7"
  },
  "orig_nbformat": 4
 },
 "nbformat": 4,
 "nbformat_minor": 2
}
