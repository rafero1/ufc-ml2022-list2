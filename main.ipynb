{
 "cells": [
  {
   "cell_type": "code",
   "execution_count": 914,
   "metadata": {},
   "outputs": [],
   "source": [
    "import numpy as np\n",
    "import numpy.typing as npt\n",
    "import matplotlib.pyplot as plt  # Biblioteca para gerar gráficos\n",
    "import pandas as pd\n",
    "from sklearn import metrics, model_selection\n",
    "from scipy import stats\n",
    "import math\n"
   ]
  },
  {
   "cell_type": "code",
   "execution_count": 915,
   "metadata": {},
   "outputs": [],
   "source": [
    "data = np.genfromtxt('breastcancer.csv', delimiter=',')"
   ]
  },
  {
   "cell_type": "markdown",
   "metadata": {},
   "source": [
    "## Questão 1"
   ]
  },
  {
   "cell_type": "markdown",
   "metadata": {},
   "source": [
    "Considere o conjunto de dados disponível em `breastcancer.csv`, organizado\n",
    "em 31 colunas, sendo as 30 primeiras colunas os atributos e a última coluna a\n",
    "saída. Os 30 atributos coletados de exames médicos são usados no diagnóstico\n",
    "do câncer de mama, sendo 1 a classe positiva e 0 a classe negativa. Maiores \n",
    "detalhes sobre os dados podem ser conferidos em \n",
    "https://scikit-learn.org/stable/datasets/toy_dataset.html#breast-cancer-dataset."
   ]
  },
  {
   "cell_type": "markdown",
   "metadata": {},
   "source": [
    "a) Considerando uma validação cruzada em 10 folds, avalie modelos de classicação binária nos dados em questão. Para tanto, use as abordagens abaixo:\n",
    "- Regressão logística (treinado com GD ou SGD);\n",
    "- Análise do discriminante Gaussiano;\n",
    "- Naive Bayes Gaussiano;"
   ]
  },
  {
   "cell_type": "code",
   "execution_count": 916,
   "metadata": {},
   "outputs": [
    {
     "name": "stdout",
     "output_type": "stream",
     "text": [
      "acurácia média: 0.9402255639097744 , desvio padrão: 0.03063416425779794\n"
     ]
    }
   ],
   "source": [
    "def k_fold_split(array, k = int):\n",
    "    shuffled_data = np.random.permutation(array)\n",
    "    folds = np.array_split(shuffled_data, k)\n",
    "    return folds\n",
    "\n",
    "def sigmoid(z):\n",
    "    return 1/(1 + np.exp(-z))\n",
    "\n",
    "def GD(X, y, learning_rate, epochs):\n",
    "    n = y.shape[0]\n",
    "    # w = np.random.randn(X.shape[1])\n",
    "    w = np.zeros(X.shape[1])\n",
    "\n",
    "    for t in range(epochs):\n",
    "        sum_e = np.zeros(X.shape[1])\n",
    "        for i in range(n):\n",
    "            ei = y[i] - sigmoid(np.dot(w.T, X[i]))\n",
    "            sum_e += ei * X[i]\n",
    "        w = w + learning_rate * (sum_e/n)\n",
    "        # w = w + learning_rate * np.mean(np.dot(e, X))\n",
    "    return w\n",
    "\n",
    "folds = k_fold_split(data, 10)\n",
    "\n",
    "results = []\n",
    "for i, fold in enumerate(folds):\n",
    "    test_set = fold\n",
    "    training_sets = [x for j, x in enumerate(folds) if j != i]\n",
    "    training_sets = np.vstack(training_sets)\n",
    "\n",
    "    n_train = training_sets.shape[0]\n",
    "    x_train = training_sets[:, np.arange(30)]\n",
    "    x_train = stats.zscore(x_train)\n",
    "    X_train = np.c_[np.ones(n_train), x_train]\n",
    "    y_train = training_sets[:, 30]\n",
    "    w_train = GD(X_train, y_train, 0.01, 100)\n",
    "\n",
    "    n_test = test_set.shape[0]\n",
    "    x_test = test_set[:, np.arange(30)]\n",
    "    x_test = stats.zscore(x_test)\n",
    "    X_test = np.c_[np.ones(n_test), x_test]\n",
    "    y_test = test_set[:, 30]\n",
    "\n",
    "    y_pred = sigmoid(np.dot(w_train, X_test.T))\n",
    "    y_pred = np.around(y_pred)\n",
    "\n",
    "    results.append(metrics.accuracy_score(y_test, y_pred))\n",
    "\n",
    "results\n",
    "\n",
    "print(\"acurácia média:\", np.mean(results), \", desvio padrão:\", np.std(results))"
   ]
  },
  {
   "cell_type": "markdown",
   "metadata": {},
   "source": [
    "b) Para cada modelo criado, reporte valor médio e desvio padrão das métricas de **acurácia**, **revocação**, **precisão** e **F1-score**"
   ]
  },
  {
   "cell_type": "code",
   "execution_count": 917,
   "metadata": {},
   "outputs": [],
   "source": [
    "# correct = 0\n",
    "# for i, pred in enumerate(y_pred):\n",
    "#     if pred == y[i]:\n",
    "#         correct += 1\n",
    "# print(correct)\n",
    "# accuracy = correct / n\n",
    "# accuracy\n",
    "# metrics.accuracy_score(y, y_pred)"
   ]
  }
 ],
 "metadata": {
  "interpreter": {
   "hash": "77ab0bf75426114283fafc7207ca0245f7de4738c2866fb9aad708a7843cc047"
  },
  "kernelspec": {
   "display_name": "Python 3.9.7 ('base')",
   "language": "python",
   "name": "python3"
  },
  "language_info": {
   "codemirror_mode": {
    "name": "ipython",
    "version": 3
   },
   "file_extension": ".py",
   "mimetype": "text/x-python",
   "name": "python",
   "nbconvert_exporter": "python",
   "pygments_lexer": "ipython3",
   "version": "3.9.7"
  },
  "orig_nbformat": 4
 },
 "nbformat": 4,
 "nbformat_minor": 2
}
