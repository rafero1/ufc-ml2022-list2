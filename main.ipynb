{
 "cells": [
  {
   "cell_type": "code",
   "execution_count": 853,
   "metadata": {},
   "outputs": [],
   "source": [
    "import numpy as np\n",
    "import numpy.typing as npt\n",
    "import matplotlib.pyplot as plt  # Biblioteca para gerar gráficos\n",
    "import pandas as pd\n",
    "from sklearn import metrics, model_selection\n",
    "from scipy import stats\n",
    "import math\n"
   ]
  },
  {
   "cell_type": "code",
   "execution_count": 854,
   "metadata": {},
   "outputs": [],
   "source": [
    "data = np.genfromtxt('breastcancer.csv', delimiter=',')"
   ]
  },
  {
   "cell_type": "markdown",
   "metadata": {},
   "source": [
    "## Questão 1"
   ]
  },
  {
   "cell_type": "markdown",
   "metadata": {},
   "source": [
    "Considere o conjunto de dados disponível em `breastcancer.csv`, organizado\n",
    "em 31 colunas, sendo as 30 primeiras colunas os atributos e a última coluna a\n",
    "saída. Os 30 atributos coletados de exames médicos são usados no diagnóstico\n",
    "do câncer de mama, sendo 1 a classe positiva e 0 a classe negativa. Maiores \n",
    "detalhes sobre os dados podem ser conferidos em \n",
    "https://scikit-learn.org/stable/datasets/toy_dataset.html#breast-cancer-dataset."
   ]
  },
  {
   "cell_type": "markdown",
   "metadata": {},
   "source": [
    "a) Considerando uma validação cruzada em 10 folds, avalie modelos de classicação binária nos dados em questão. Para tanto, use as abordagens abaixo:\n",
    "- Regressão logística (treinado com GD ou SGD);\n",
    "- Análise do discriminante Gaussiano;\n",
    "- Naive Bayes Gaussiano;"
   ]
  },
  {
   "cell_type": "code",
   "execution_count": 855,
   "metadata": {},
   "outputs": [],
   "source": [
    "\n",
    "class Set:\n",
    "    def __init__(self, dataset, features, output):\n",
    "        self.dataset = dataset\n",
    "        self.features = features\n",
    "        self.output = output\n",
    "\n",
    "    def get_n(self):\n",
    "        return self.dataset.shape[0]\n",
    "\n",
    "    def get_x(self):\n",
    "        return self.dataset[:, self.features]\n",
    "\n",
    "    def set_x(self, new_x):\n",
    "        self.x = new_x\n",
    "\n",
    "    def get_y(self):\n",
    "        return self.dataset[:, self.output]\n",
    "\n",
    "    def get_X(self, normal_fun=None):\n",
    "        if (normal_fun):\n",
    "            return np.c_[np.ones(self.get_n()), normal_fun(self.get_x())]\n",
    "        else:\n",
    "            return np.c_[np.ones(self.get_n()), self.get_x()]\n"
   ]
  },
  {
   "cell_type": "code",
   "execution_count": 856,
   "metadata": {},
   "outputs": [],
   "source": [
    "def k_fold_split(array, k = int):\n",
    "    \"\"\"realiza o split dos dados em k-folds\"\"\"\n",
    "    shuffled_data = np.random.permutation(array)\n",
    "    folds = np.array_split(shuffled_data, k)\n",
    "    return folds\n",
    "\n",
    "def k_fold_train_test(folds):\n",
    "    \"\"\"retorna um vetor com as configurações de treino e teste definidas pelo k-fold split\"\"\"\n",
    "    results = []\n",
    "    for i, fold in enumerate(folds):\n",
    "        train = np.vstack([x for j, x in enumerate(folds) if j != i])\n",
    "        test = fold\n",
    "        results.append((i, train, test))\n",
    "    return results\n",
    "    \n",
    "\n",
    "folds = k_fold_split(data, 10)"
   ]
  },
  {
   "cell_type": "code",
   "execution_count": 857,
   "metadata": {},
   "outputs": [],
   "source": [
    "def sigmoid(z):\n",
    "    return 1/(1 + np.exp(-z))\n",
    "\n",
    "def GD(X, y, learning_rate, epochs):\n",
    "    # inicia valores\n",
    "    n = y.shape[0]\n",
    "    # w = np.random.randn(X.shape[1])\n",
    "    w = np.zeros(X.shape[1])\n",
    "\n",
    "    # atualiza pesos (w) em cada época\n",
    "    for t in range(epochs):\n",
    "        ei_sum = np.zeros(X.shape[1])\n",
    "        for i in range(n):\n",
    "            ei = y[i] - sigmoid(np.dot(w.T, X[i]))\n",
    "            ei_sum += np.dot(ei, X[i])\n",
    "        w = w + learning_rate * (ei_sum/n)\n",
    "        # w = w + learning_rate * np.mean(np.dot(e, X))\n",
    "    return w\n",
    "\n",
    "def log_reg_GD_predict(train_set, test_set, learning_rate, epochs):\n",
    "    features = np.arange(30)\n",
    "    output = 30\n",
    "\n",
    "    # pega colunas de treino\n",
    "    train_set = Set(train_set, features, output)\n",
    "    X_train = train_set.get_X(normal_fun=stats.zscore)\n",
    "    y_train = train_set.get_y()\n",
    "\n",
    "    # treina modelo\n",
    "    w_train = GD(X_train, y_train, learning_rate, epochs)\n",
    "\n",
    "    # pega colunas de teste\n",
    "    test_set = Set(test_set, features, output)\n",
    "    X_test = test_set.get_X(normal_fun=stats.zscore)\n",
    "    y_test = test_set.get_y()\n",
    "\n",
    "    # testa modelo\n",
    "    y_pred = sigmoid(np.dot(w_train, X_test.T))\n",
    "    y_pred = np.around(y_pred)\n",
    "\n",
    "    return (y_test, y_pred)\n"
   ]
  },
  {
   "cell_type": "code",
   "execution_count": 858,
   "metadata": {},
   "outputs": [],
   "source": [
    "# todo analise de discriminante gaussiano\n",
    "def GDA(X, y):\n",
    "    pCk_ = []\n",
    "    mu_k_ = []\n",
    "    sigma_k_ = []\n",
    "\n",
    "    N = y.shape[0]\n",
    "    for k in np.unique(y):\n",
    "        # calcula p(Ck)\n",
    "        n = y[y==k].shape[0]\n",
    "        pCk = n/N\n",
    "        pCk_.append(pCk)\n",
    "\n",
    "        # calcula mu_k\n",
    "        Xk = X[y==k]\n",
    "        mu_k = Xk.mean()\n",
    "        mu_k_.append(mu_k)\n",
    "        \n",
    "        # calcula sigma_k\n",
    "        sigma_k = (Xk - mu_k).T.dot(Xk - mu_k) / (Xk.shape[0] - 1)\n",
    "        sigma_k_.append(sigma_k)\n",
    "\n",
    "    return (pCk_, mu_k_, sigma_k_)\n",
    "\n",
    "def GDA_predict(train_set, test_set):\n",
    "    features = np.arange(30)\n",
    "    output = 30\n",
    "\n",
    "    # pega colunas de treino\n",
    "    train_set = Set(train_set, features, output)\n",
    "    X_train = train_set.get_X()\n",
    "    y_train = train_set.get_y()\n",
    "\n",
    "    # treina modelo\n",
    "    pC, mu, sigma = GDA(X_train, y_train)\n",
    "    \n",
    "    # pega colunas de teste\n",
    "    test_set = Set(test_set, features, output)\n",
    "    X_test = test_set.get_X()\n",
    "    y_test = test_set.get_y()\n",
    "\n",
    "    y_pred = []\n",
    "    for i, y in enumerate(y_test):\n",
    "        y_probabilities = []\n",
    "        # para cada classe, verifica as probabilidades\n",
    "        for k, classification in enumerate(np.unique(y_test)):\n",
    "            eq1 = (-0.5 * np.log(np.linalg.det(sigma[k])))\n",
    "            aux = X_test[i] - mu[k]\n",
    "            eq2 = (-0.5 * aux) @ np.linalg.pinv(sigma[k]) @ aux.T\n",
    "            eq3 = np.log(pC[k])\n",
    "\n",
    "            prob = eq1 + eq2 + eq3\n",
    "\n",
    "            y_probabilities.append(prob)\n",
    "\n",
    "        # escolhe a mais provável\n",
    "        y_pred.append(np.argmax(y_probabilities))\n",
    "        # print(y_probabilities)\n",
    "\n",
    "    return (y_test, y_pred)\n"
   ]
  },
  {
   "cell_type": "code",
   "execution_count": 859,
   "metadata": {},
   "outputs": [],
   "source": [
    "# todo naive bayes\n",
    "def naive_bayes():\n",
    "    pass"
   ]
  },
  {
   "cell_type": "markdown",
   "metadata": {},
   "source": [
    "b) Para cada modelo criado, reporte valor médio e desvio padrão das métricas de **acurácia**, **revocação**, **precisão** e **F1-score**"
   ]
  },
  {
   "cell_type": "code",
   "execution_count": 860,
   "metadata": {},
   "outputs": [],
   "source": [
    "def is_true_positive(y, y_pred):\n",
    "    return y_pred >= 1 and y >= 1\n",
    "\n",
    "def is_false_positive(y, y_pred):\n",
    "    return y_pred >= 1 and y <= 0\n",
    "\n",
    "def is_true_negative(y, y_pred):\n",
    "    return y_pred <= 0 and y <= 0\n",
    "\n",
    "def is_false_negative(y, y_pred):\n",
    "    return y_pred <= 0 and y >= 1\n",
    "\n",
    "def verify_predictions(y, y_pred):\n",
    "    \"\"\" returns (tp, fp, tn, fn) \"\"\"\n",
    "\n",
    "    tp, fp, tn, fn = 0, 0, 0, 0\n",
    "    for i, pred in enumerate(y_pred):\n",
    "        tp += 1 if is_true_positive(y[i], pred) else 0\n",
    "        fp += 1 if is_false_positive(y[i], pred) else 0\n",
    "        tn += 1 if is_true_negative(y[i], pred) else 0\n",
    "        fn += 1 if is_false_negative(y[i], pred) else 0\n",
    "    return (tp, fp, tn, fn)\n",
    "\n",
    "def accuracy(y, y_pred):\n",
    "    tp, fp, tn, fn = verify_predictions(y, y_pred)\n",
    "    return (tp + tn) / (tp + fp + tn + fn)\n",
    "\n",
    "def precision(y, y_pred):\n",
    "    tp, fp, tn, fn = verify_predictions(y, y_pred)\n",
    "    return tp / (tp + fp)\n",
    "\n",
    "def recall(y, y_pred):\n",
    "    tp, fp, tn, fn = verify_predictions(y, y_pred)\n",
    "    return tp / (tp + fn)\n",
    "\n",
    "def f1_score(y, y_pred):\n",
    "    precision_ = precision(y, y_pred)\n",
    "    recall_ = recall(y, y_pred)\n",
    "    return 2 * (precision_ * recall_) / (precision_ + recall_)\n"
   ]
  },
  {
   "cell_type": "code",
   "execution_count": 861,
   "metadata": {},
   "outputs": [
    {
     "name": "stdout",
     "output_type": "stream",
     "text": [
      "10-fold cross validation com regressão logistica (GD)\n",
      "acurácia: 0.93671679 +/- 0.02250935\n",
      "revocação: 0.95675528 +/- 0.02937758\n",
      "precisão: 0.94437170 +/- 0.04157466\n",
      "f1-score: 0.94940196 +/- 0.01628936\n"
     ]
    }
   ],
   "source": [
    "gd_accuracy_arr, gd_precision_arr, gd_recall_arr, gd_f1_score_arr = [], [], [], []\n",
    "for i, train, test in k_fold_train_test(folds):\n",
    "      y_test, y_pred = log_reg_GD_predict(train, test, 0.01, 100)\n",
    "      \n",
    "      gd_accuracy_arr.append(accuracy(y_test, y_pred))\n",
    "      # gd_accuracy_arr.append(metrics.accuracy_score(y_test, y_pred))\n",
    "      gd_precision_arr.append(precision(y_test, y_pred))\n",
    "      gd_recall_arr.append(recall(y_test, y_pred))\n",
    "      gd_f1_score_arr.append(f1_score(y_test, y_pred))\n",
    "\n",
    "print(\"10-fold cross validation com regressão logistica (GD)\")\n",
    "print(\"acurácia: %.8f +/- %.8f\" %\n",
    "      (np.mean(gd_accuracy_arr), np.std(gd_accuracy_arr)))\n",
    "print(\"revocação: %.8f +/- %.8f\" %\n",
    "      (np.mean(gd_precision_arr), np.std(gd_precision_arr)))\n",
    "print(\"precisão: %.8f +/- %.8f\" % \n",
    "      (np.mean(gd_recall_arr), np.std(gd_recall_arr)))\n",
    "print(\"f1-score: %.8f +/- %.8f\" %\n",
    "      (np.mean(gd_f1_score_arr), np.std(gd_f1_score_arr)))\n"
   ]
  },
  {
   "cell_type": "code",
   "execution_count": 862,
   "metadata": {},
   "outputs": [
    {
     "name": "stdout",
     "output_type": "stream",
     "text": [
      "10-fold cross validation com GDA\n",
      "acurácia: 0.95949248 +/- 0.02636797\n",
      "revocação: 0.96743928 +/- 0.03143540\n",
      "precisão: 0.96947485 +/- 0.02300408\n",
      "f1-score: 0.96804941 +/- 0.01931077\n"
     ]
    }
   ],
   "source": [
    "gda_accuracy_arr, gda_precision_arr, gda_recall_arr, gda_f1_score_arr = [], [], [], []\n",
    "for i, train, test in k_fold_train_test(folds):\n",
    "      y_test, y_pred = GDA_predict(train, test)\n",
    "      \n",
    "      gda_accuracy_arr.append(accuracy(y_test, y_pred))\n",
    "      gda_precision_arr.append(precision(y_test, y_pred))\n",
    "      gda_recall_arr.append(recall(y_test, y_pred))\n",
    "      gda_f1_score_arr.append(f1_score(y_test, y_pred))\n",
    "\n",
    "print(\"10-fold cross validation com GDA\")\n",
    "print(\"acurácia: %.8f +/- %.8f\" %\n",
    "      (np.mean(gda_accuracy_arr), np.std(gda_accuracy_arr)))\n",
    "print(\"revocação: %.8f +/- %.8f\" %\n",
    "      (np.mean(gda_precision_arr), np.std(gda_precision_arr)))\n",
    "print(\"precisão: %.8f +/- %.8f\" % \n",
    "      (np.mean(gda_recall_arr), np.std(gda_recall_arr)))\n",
    "print(\"f1-score: %.8f +/- %.8f\" %\n",
    "      (np.mean(gda_f1_score_arr), np.std(gda_f1_score_arr)))"
   ]
  },
  {
   "cell_type": "code",
   "execution_count": null,
   "metadata": {},
   "outputs": [],
   "source": []
  }
 ],
 "metadata": {
  "interpreter": {
   "hash": "77ab0bf75426114283fafc7207ca0245f7de4738c2866fb9aad708a7843cc047"
  },
  "kernelspec": {
   "display_name": "Python 3.9.7 ('base')",
   "language": "python",
   "name": "python3"
  },
  "language_info": {
   "codemirror_mode": {
    "name": "ipython",
    "version": 3
   },
   "file_extension": ".py",
   "mimetype": "text/x-python",
   "name": "python",
   "nbconvert_exporter": "python",
   "pygments_lexer": "ipython3",
   "version": "3.9.7"
  },
  "orig_nbformat": 4
 },
 "nbformat": 4,
 "nbformat_minor": 2
}
